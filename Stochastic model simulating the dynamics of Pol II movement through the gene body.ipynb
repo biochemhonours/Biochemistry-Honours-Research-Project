{
 "cells": [
  {
   "cell_type": "markdown",
   "id": "8dcd781b",
   "metadata": {},
   "source": [
    "### Import libraries "
   ]
  },
  {
   "cell_type": "code",
   "execution_count": 3,
   "id": "910844dc",
   "metadata": {},
   "outputs": [],
   "source": [
    "import random\n",
    "import numpy as np\n",
    "import matplotlib.pyplot as plt"
   ]
  },
  {
   "cell_type": "markdown",
   "id": "f6d082c5",
   "metadata": {},
   "source": [
    "### The model"
   ]
  },
  {
   "cell_type": "code",
   "execution_count": 4,
   "id": "df66589c",
   "metadata": {},
   "outputs": [
    {
     "name": "stderr",
     "output_type": "stream",
     "text": [
      "/Users/marcinmaniak/opt/anaconda3/lib/python3.9/site-packages/numpy/core/_methods.py:163: VisibleDeprecationWarning: Creating an ndarray from ragged nested sequences (which is a list-or-tuple of lists-or-tuples-or ndarrays with different lengths or shapes) is deprecated. If you meant to do this, you must specify 'dtype=object' when creating the ndarray.\n",
      "  arr = asanyarray(a)\n"
     ]
    },
    {
     "data": {
      "image/png": "[encoded data removed]",
      "text/plain": [
       "<Figure size 640x480 with 1 Axes>"
      ]
     },
     "metadata": {},
     "output_type": "display_data"
    }
   ],
   "source": [
    "# The model simulates the Pol II movement in time slices of 1/30 seconds\n",
    "\n",
    "# Define the parameters\n",
    "initiation_rate = 1/(60 * 30)  # 1 event per 1 minute\n",
    "elongation_rate = 1800.0 / (60.0 *30)  # 1800 bp per minute \n",
    "termination_rate = 1/(60 * 30)  # 1 event per 1 minute \n",
    "pause_escape_rate = 1/ (60 * 30)  # 1 event per minute\n",
    "gene_length = 100000  # 100 kb gene\n",
    "simulation_time = 6*3600 *30  # 6 hours simulation \n",
    "footprint = 34 # Pol II footprint\n",
    "num_simulations = 100 #number of simulations\n",
    "\n",
    "# Initialize the list of Pol II positions for all simulations\n",
    "final_positions = []\n",
    "\n",
    "# Simulate the Pol II movement for multiple simulations\n",
    "for sim in range(num_simulations):\n",
    "    # Initialize the Pol II positions\n",
    "    pol_positions = []\n",
    "\n",
    "    # Simulate the Pol II movement\n",
    "    for time in range(simulation_time):\n",
    "        \n",
    "        # INITIATION\n",
    "        # Check if a new Pol II should initiate\n",
    "        if random.random() < initiation_rate:\n",
    "            if len([p for p in pol_positions if p < footprint]) == 0:\n",
    "                pol_positions.append(0)\n",
    "        \n",
    "        # PAUSE ESCAPE\n",
    "        # Resume paused Pol II\n",
    "        if 0 in pol_positions:\n",
    "            if random.random() < pause_escape_rate:\n",
    "                    pol_positions.remove(0)\n",
    "                    pol_positions.append(1)\n",
    "                    \n",
    "        # ELONGATION\n",
    "        # Sort the Pol II positions in ascending order\n",
    "        pol_positions.sort()\n",
    "\n",
    "        # Adjust the effective elongation rate based on the number of Pol II molecules (since only one Pol II molecule is randomly selected to move, the average elongation rate needs to be adjusted)\n",
    "        num_pol = len(pol_positions)\n",
    "        elongation_rate_effective = elongation_rate * num_pol\n",
    "\n",
    "        # Randomly select a Pol II molecule to move\n",
    "        if pol_positions:\n",
    "            i = random.randint(0, len(pol_positions)-1)\n",
    "\n",
    "            # If the Pol II is paused, it cannot move until it resumes\n",
    "            if pol_positions[i] == 0:\n",
    "                continue\n",
    "\n",
    "            # If the Pol II is not paused\n",
    "            else:\n",
    "                # If the Pol II is the last one or is not blocked by the previous Pol II\n",
    "                if i == len(pol_positions)-1:\n",
    "                    if pol_positions[i] < gene_length:\n",
    "                        pol_positions[i] += elongation_rate_effective\n",
    "                    else:\n",
    "                        continue\n",
    "                elif pol_positions[i] + elongation_rate_effective + footprint < pol_positions[i+1]:\n",
    "                    if pol_positions[i] < gene_length:\n",
    "                        pol_positions[i] += elongation_rate_effective\n",
    "                    else:\n",
    "                        continue\n",
    "                        \n",
    "        # TERMINATION\n",
    "        # Check if any Pol II molecule has reached the end of the gene\n",
    "        for p in pol_positions:\n",
    "            if p >= gene_length:\n",
    "                if random.random() < termination_rate:\n",
    "                    pol_positions.remove(p)\n",
    "                else:\n",
    "                    continue\n",
    "            else:\n",
    "                continue\n",
    "\n",
    "    # Record the final positions of the Pol II molecules\n",
    "    final_positions.append(pol_positions)\n",
    "    \n",
    "# Calculate the average position of each Pol II molecules\n",
    "avg_positions = np.mean(final_positions, axis=0)*num_simulations\n",
    "\n",
    "# Visualize the distribution of Pol II positions\n",
    "plt.hist(avg_positions, bins=100)\n",
    "plt.xlabel('Position on the gene (bp)')\n",
    "plt.ylabel('Pol II count')\n",
    "n = len(avg_positions)\n",
    "plt.text(0.7, 0.9, f'n = {n}', transform=plt.gca().transAxes)\n",
    "plt.show()\n",
    "#print(avg_positions)"
   ]
  },
  {
   "cell_type": "code",
   "execution_count": null,
   "id": "4af8dc2b",
   "metadata": {},
   "outputs": [],
   "source": []
  }
 ],
 "metadata": {
  "kernelspec": {
   "display_name": "Python 3 (ipykernel)",
   "language": "python",
   "name": "python3"
  },
  "language_info": {
   "codemirror_mode": {
    "name": "ipython",
    "version": 3
   },
   "file_extension": ".py",
   "mimetype": "text/x-python",
   "name": "python",
   "nbconvert_exporter": "python",
   "pygments_lexer": "ipython3",
   "version": "3.9.13"
  }
 },
 "nbformat": 4,
 "nbformat_minor": 5
}
