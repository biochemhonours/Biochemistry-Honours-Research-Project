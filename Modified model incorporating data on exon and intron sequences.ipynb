{
 "cells": [
  {
   "cell_type": "markdown",
   "id": "ffee2814",
   "metadata": {},
   "source": [
    "### Import libraries"
   ]
  },
  {
   "cell_type": "markdown",
   "id": "620820b2",
   "metadata": {},
   "source": [
    "pandas - data analysis and manipulation\n",
    "\n",
    "numpy - support for multidimensional arrays and matrices\n",
    "\n",
    "genomepy -  handling genomes and gene annotations\n",
    "\n",
    "matplotlib - creating visualisations \n",
    "\n",
    "SciPy - scientific and technical computing"
   ]
  },
  {
   "cell_type": "code",
   "execution_count": null,
   "id": "a492bba8",
   "metadata": {},
   "outputs": [],
   "source": [
    "pip install genomepy"
   ]
  },
  {
   "cell_type": "code",
   "execution_count": null,
   "id": "f8eb06cb",
   "metadata": {},
   "outputs": [],
   "source": [
    "import pandas as pd\n",
    "import numpy as np\n",
    "import genomepy\n",
    "import matplotlib.pyplot as plt\n",
    "from scipy import stats\n",
    "import random"
   ]
  },
  {
   "cell_type": "markdown",
   "id": "59df998b",
   "metadata": {},
   "source": [
    "### Download genome assembly with genomepy and read in the gene annotation"
   ]
  },
  {
   "cell_type": "code",
   "execution_count": null,
   "id": "f5090fcf",
   "metadata": {},
   "outputs": [],
   "source": [
    "genomepy.install_genome(\"GRCm39\", \"NCBI\", annotation = False)\n",
    "\n",
    "gencode = pd.read_table(\"gencode.vM32.annotation.gff3.gz\", comment=\"#\", sep = \"\\t\", names = ['seqname', 'source', 'feature', 'start', 'end', 'score', 'strand', 'frame', 'attribute'])\n",
    "gencode.head() "
   ]
  },
  {
   "cell_type": "markdown",
   "id": "5684c1e1",
   "metadata": {},
   "source": [
    "### Select genes only"
   ]
  },
  {
   "cell_type": "code",
   "execution_count": null,
   "id": "e429bf69",
   "metadata": {},
   "outputs": [],
   "source": [
    "gencode_genes = gencode[(gencode.feature == \"gene\")][['seqname', 'source', 'feature','start', 'end', 'strand', 'attribute']].copy().reset_index().drop('index', axis=1)\n",
    "gencode_genes.head()"
   ]
  },
  {
   "cell_type": "markdown",
   "id": "2f37b49f",
   "metadata": {},
   "source": [
    "### Extract gene names and gene types"
   ]
  },
  {
   "cell_type": "code",
   "execution_count": null,
   "id": "dc325f8c",
   "metadata": {},
   "outputs": [],
   "source": [
    "def gene_info(x):\n",
    "    g_name = list(filter(lambda x: 'gene_name' in x,  x.split(\";\")))[0].split(\"=\")[1]\n",
    "    g_type = list(filter(lambda x: 'gene_type' in x,  x.split(\";\")))[0].split(\"=\")[1]\n",
    "    return (g_name, g_type)\n",
    "gencode_genes[\"gene_name\"], gencode_genes[\"gene_type\"] = zip(*gencode_genes.attribute.apply(lambda x: gene_info(x)))"
   ]
  },
  {
   "cell_type": "markdown",
   "id": "42aea026",
   "metadata": {},
   "source": [
    "### Select protein-coding genes only"
   ]
  },
  {
   "cell_type": "code",
   "execution_count": null,
   "id": "e45768e9",
   "metadata": {},
   "outputs": [],
   "source": [
    "gencode_genes = gencode_genes[gencode_genes['gene_type'] == 'protein_coding'].reset_index().drop('index', axis=1)\n",
    "gencode_genes.head()"
   ]
  },
  {
   "cell_type": "markdown",
   "id": "23b63e19",
   "metadata": {},
   "source": [
    "### Index by gene name"
   ]
  },
  {
   "cell_type": "code",
   "execution_count": null,
   "id": "5b328615",
   "metadata": {},
   "outputs": [],
   "source": [
    "gencode_genes = gencode_genes.set_index('gene_name')\n",
    "gencode_genes.head()"
   ]
  },
  {
   "cell_type": "markdown",
   "id": "13fec93c",
   "metadata": {},
   "source": [
    "### Create dictionary of genes with their esitmated elongation rates "
   ]
  },
  {
   "cell_type": "code",
   "execution_count": null,
   "id": "7c73d32d",
   "metadata": {},
   "outputs": [],
   "source": [
    "df = pd.read_excel('gene_list.xlsx') # A list of genes for which transcription elongation rates have been estimated in mESCs by Jonkers et al. in the times spanning  12.5-25 minutes following flavopiridol treatment \n",
    "\n",
    "genedata = dict(zip(df['Gene name'].tolist(), df['Rate (bp/min)'].tolist()))\n",
    "\n",
    "print(genedata)"
   ]
  },
  {
   "cell_type": "markdown",
   "id": "b0e64ff5",
   "metadata": {},
   "source": [
    "### Determine gene coordinates"
   ]
  },
  {
   "cell_type": "code",
   "execution_count": null,
   "id": "5c8928a2",
   "metadata": {},
   "outputs": [],
   "source": [
    "gene_coordinates = pd.DataFrame({'gene_name': [], 'chromosome': [], 'start': [], 'end': [], 'strand': []})\n",
    "for gene in genedata:\n",
    "    try:\n",
    "        a = gencode_genes.loc[gene]['seqname']\n",
    "        b = gencode_genes.loc[gene]['start']\n",
    "        c = gencode_genes.loc[gene]['end']\n",
    "        d = gencode_genes.loc[gene]['strand']\n",
    "        gene_coordinates.loc[len(gene_coordinates)] = [gene, a, b, c, d]\n",
    "    except Exception as e:\n",
    "        pass\n",
    "gene_coordinates = gene_coordinates.set_index('gene_name')\n",
    "gene_coordinates.head()"
   ]
  },
  {
   "cell_type": "markdown",
   "id": "8bff528c",
   "metadata": {},
   "source": [
    "### Select exons"
   ]
  },
  {
   "cell_type": "code",
   "execution_count": null,
   "id": "69febec2",
   "metadata": {},
   "outputs": [],
   "source": [
    "gencode_exons = gencode[(gencode.feature == \"exon\")][['seqname', 'source', 'feature','start', 'end', 'strand', 'attribute']].copy().reset_index().drop('index', axis=1)\n",
    "\n",
    "gencode_exons[\"gene_name\"], gencode_exons[\"gene_type\"] = zip(*gencode_exons.attribute.apply(lambda x: gene_info(x)))\n",
    "\n",
    "gencode_exons = gencode_exons[gencode_exons['gene_type'] == 'protein_coding'].reset_index().drop('index', axis=1)\n",
    "\n",
    "gencode_exons = gencode_exons.set_index('gene_name')\n",
    "\n",
    "gencode_exons1 = gencode_exons.set_index('attribute')\n",
    "\n",
    "print(gencode_exons1)"
   ]
  },
  {
   "cell_type": "markdown",
   "id": "066b38eb",
   "metadata": {},
   "source": [
    "### Determine exon coordinates "
   ]
  },
  {
   "cell_type": "code",
   "execution_count": null,
   "id": "d5f5c545",
   "metadata": {},
   "outputs": [],
   "source": [
    "exon_counts = pd.DataFrame({'gene_name': [], 'exon_count': [], 'exons': [], 'exons_coordinates': [], 'Rate (bp/min)':[]})\n",
    "for gene in genedata:\n",
    "    exon_count = 0\n",
    "    exons = []\n",
    "    exon_coordinates = []\n",
    "    try: \n",
    "        a = gene_coordinates.loc[gene]['chromosome']\n",
    "        b = gene_coordinates.loc[gene]['start']\n",
    "        c = gene_coordinates.loc[gene]['end']\n",
    "        d = gene_coordinates.loc[gene]['strand']\n",
    "        for attribute in gencode_exons.loc[gene]['attribute']:\n",
    "            if \"Ensembl\" in attribute:\n",
    "                start = gencode_exons1.loc[attribute]['start']\n",
    "                end = gencode_exons1.loc[attribute]['end']\n",
    "                if d == '+':\n",
    "                    exon_count = exon_count + 1\n",
    "                    exon_length = end-start\n",
    "                    exons.append(exon_length)\n",
    "                    exon_coordinates.append((a, start, end))\n",
    "                if d == '-':\n",
    "                    exon_count = exon_count + 1\n",
    "                    exon_length = end-start\n",
    "                    exons.append(exon_length)\n",
    "                    exon_coordinates.append((a, start, end))\n",
    "    except:\n",
    "        pass\n",
    "    if exon_count >-1:\n",
    "        exon_counts.loc[len(exon_counts)] = [gene, exon_count, exons, exon_coordinates, genedata[gene]]\n",
    "\n",
    "exon_counts = exon_counts.set_index('gene_name')"
   ]
  },
  {
   "cell_type": "markdown",
   "id": "45036d61",
   "metadata": {},
   "source": [
    "### Define a function to highlight a given sequence"
   ]
  },
  {
   "cell_type": "code",
   "execution_count": null,
   "id": "8b86abd9",
   "metadata": {},
   "outputs": [],
   "source": [
    "def highlight_sequence(sequence, larger_sequence):\n",
    "    highlighted_sequence = larger_sequence.replace(sequence, sequence.upper())\n",
    "    return highlighted_sequence"
   ]
  },
  {
   "cell_type": "markdown",
   "id": "891fbf28",
   "metadata": {},
   "source": [
    "## Modified model incorporating exon sequences"
   ]
  },
  {
   "cell_type": "code",
   "execution_count": null,
   "id": "b73037db",
   "metadata": {},
   "outputs": [],
   "source": [
    "# The model simulates the Pol II movement in time slices of 1/30 seconds\n",
    "\n",
    "# Define the parameters\n",
    "initiation_rate = 1/(60 * 30)  # 1 event per 1 minute\n",
    "elongation_rate = 1800.0 / (60.0 *30)  # 1800 bp per minute \n",
    "termination_rate = 1/(60 * 30)  # 1 event per 1 minute \n",
    "pause_escape_rate = 1/ (60 * 30)  # 1 event per minute\n",
    "simulation_time = 6*3600 *30  # 6 hours simulation \n",
    "footprint = 34 # Pol II footprint\n",
    "num_simulations = 100 #number of simulations\n",
    "\n",
    "#Define the exon factor\n",
    "exon_factor = 3 \n",
    "intron_factor = 1 \n",
    "base_factor = {'A': 1/(exon_factor), 'T': 1/(exon_factor), 'C': 1/(exon_factor), 'G': 1/(exon_factor), 'a': 1/(intron_factor), 't': 1/(intron_factor), 'c': 1/(intron_factor), 'g': 1/(intron_factor)} \n",
    "\n",
    "#Specify the gene\n",
    "gene = 'Wapl'\n",
    "a = gencode_genes.loc[gene]['seqname']\n",
    "b = gencode_genes.loc[gene]['start']\n",
    "c = gencode_genes.loc[gene]['end']\n",
    "d = gene_coordinates.loc[gene]['strand']\n",
    "x = genomepy.Genome(\"GRCm39\").get_seq(a[3:],b,c)\n",
    "x = (str(x)).lower()\n",
    "for exon in exon_counts.loc[gene]['exons_coordinates']:\n",
    "    e = exon[1]\n",
    "    f = exon[2]\n",
    "    g = (str((genomepy.Genome(\"GRCm39\").get_seq(a[3:],e,f))).lower())\n",
    "    x = highlight_sequence(g, x)\n",
    "gene = x \n",
    "\n",
    "gene_length = len(gene) \n",
    "\n",
    "# Initialize the list of Pol II positions for all simulations\n",
    "final_positions = []\n",
    "\n",
    "# Simulate the Pol II movement for multiple simulations\n",
    "for sim in range(num_simulations):\n",
    "    # Initialize the Pol II positions\n",
    "    pol_positions = []\n",
    "\n",
    "    # Simulate the Pol II movement\n",
    "    for time in range(simulation_time):\n",
    "        \n",
    "        # INITIATION\n",
    "        # Check if a new Pol II should initiate\n",
    "        if random.random() < initiation_rate:\n",
    "            if len([p for p in pol_positions if p < footprint]) == 0:\n",
    "                pol_positions.append(0)\n",
    "        \n",
    "        # PAUSE ESCAPE\n",
    "        # Resume paused Pol II\n",
    "        if 0 in pol_positions:\n",
    "            if random.random() < pause_escape_rate:\n",
    "                    pol_positions.remove(0)\n",
    "                    pol_positions.append(1)\n",
    "                    \n",
    "        # ELONGATION\n",
    "        # Sort the Pol II positions in ascending order\n",
    "        pol_positions.sort()\n",
    "\n",
    "        # Adjust the effective elongation rate based on the number of Pol II molecules (since only one Pol II molecule is randomly selected to move, the average elongation rate needs to be adjusted)\n",
    "        num_pol = len(pol_positions)\n",
    "        elongation_rate_effective = elongation_rate * num_pol\n",
    "\n",
    "        # Randomly select an Pol II molecule to move\n",
    "        if pol_positions:\n",
    "            i = random.randint(0, len(pol_positions)-1)\n",
    "\n",
    "            try:\n",
    "                base = gene[int(pol_positions[i])]\n",
    "            except:\n",
    "                pass\n",
    "                \n",
    "            # If the Pol II is paused, it cannot move until it resumes\n",
    "            if pol_positions[i] == 0:\n",
    "                continue\n",
    "\n",
    "            # If the Pol II is not paused\n",
    "            else:\n",
    "                # If the Pol II is the last one or is not blocked by the previous Pol II\n",
    "                if i == len(pol_positions)-1:\n",
    "                    if pol_positions[i] < gene_length:\n",
    "                        pol_positions[i] += elongation_rate_effective * base_factor[base]\n",
    "                    else:\n",
    "                        continue\n",
    "                elif pol_positions[i] + elongation_rate_effective + footprint < pol_positions[i+1]:\n",
    "                    if pol_positions[i] < gene_length:\n",
    "                        pol_positions[i] += elongation_rate_effective * base_factor[base]\n",
    "                    else:\n",
    "                        continue\n",
    "                        \n",
    "        # TERMINATION\n",
    "        # Check if any Pol II molecules has reached the end of the gene\n",
    "        for p in pol_positions:\n",
    "            if p >= gene_length:\n",
    "                if random.random() < termination_rate:\n",
    "                    pol_positions.remove(p)\n",
    "                else:\n",
    "                    continue\n",
    "            else:\n",
    "                continue\n",
    "\n",
    "    # Record the final positions of the Pol II molecules\n",
    "    final_positions.append(pol_positions)\n",
    "    \n",
    "# Calculate the average position of each Pol II\n",
    "avg_positions = np.mean(final_positions, axis=0)*num_simulations\n",
    "\n",
    "# Bin the Pol II positions into 100 bins\n",
    "hist, bins = np.histogram(avg_positions, bins=(int(gene_length/1000)+1))\n",
    "\n",
    "# Calculate the mean height, standard deviation, and coefficient of variation of the 100 bins\n",
    "mean_height = np.mean(hist)\n",
    "std_dev = np.std(hist)\n",
    "coeff_of_var = std_dev/mean_height\n",
    "\n",
    "# Print the gene signature\n",
    "print(\"Gene signature:\")\n",
    "print(f\"Mean height: {mean_height}\")\n",
    "print(f\"Standard deviation: {std_dev}\")\n",
    "print(f\"Coefficient of variation: {coeff_of_var}\")\n",
    "\n",
    "# Visualize the distribution of Pol II positions\n",
    "plt.hist(avg_positions, bins=(int(gene_length/1000)+1))\n",
    "plt.xlabel('Position on the gene (bp)', fontsize = 15)\n",
    "plt.ylabel('Pol II count', fontsize = 15)\n",
    "plt.ylim(0, 200)\n",
    "n = len(avg_positions)\n",
    "plt.text(0.70, 0.9, f'n = {n}', transform=plt.gca().transAxes, fontsize=12)\n",
    "plt.xticks(fontsize=12)\n",
    "plt.yticks(fontsize=12)\n",
    "plt.show()"
   ]
  }
 ],
 "metadata": {
  "kernelspec": {
   "display_name": "Python 3 (ipykernel)",
   "language": "python",
   "name": "python3"
  },
  "language_info": {
   "codemirror_mode": {
    "name": "ipython",
    "version": 3
   },
   "file_extension": ".py",
   "mimetype": "text/x-python",
   "name": "python",
   "nbconvert_exporter": "python",
   "pygments_lexer": "ipython3",
   "version": "3.9.13"
  }
 },
 "nbformat": 4,
 "nbformat_minor": 5
}
