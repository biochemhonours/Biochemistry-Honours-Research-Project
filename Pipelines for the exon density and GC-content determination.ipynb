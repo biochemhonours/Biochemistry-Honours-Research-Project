{
 "cells": [
  {
   "cell_type": "markdown",
   "id": "ffee2814",
   "metadata": {},
   "source": [
    "### Import libraries"
   ]
  },
  {
   "cell_type": "markdown",
   "id": "620820b2",
   "metadata": {},
   "source": [
    "pandas - data analysis and manipulation\n",
    "\n",
    "numpy - support for multidimensional arrays and matrices\n",
    "\n",
    "genomepy -  handling genomes and gene annotations\n",
    "\n",
    "matplotlib - creating visualisations \n",
    "\n",
    "SciPy - scientific and technical computing"
   ]
  },
  {
   "cell_type": "code",
   "execution_count": null,
   "id": "a492bba8",
   "metadata": {},
   "outputs": [],
   "source": [
    "pip install genomepy"
   ]
  },
  {
   "cell_type": "code",
   "execution_count": null,
   "id": "f8eb06cb",
   "metadata": {},
   "outputs": [],
   "source": [
    "import pandas as pd\n",
    "import numpy as np\n",
    "import genomepy\n",
    "import matplotlib.pyplot as plt\n",
    "from scipy import stats"
   ]
  },
  {
   "cell_type": "markdown",
   "id": "59df998b",
   "metadata": {},
   "source": [
    "### Download genome assembly with genomepy and read in the gene annotation"
   ]
  },
  {
   "cell_type": "code",
   "execution_count": null,
   "id": "f5090fcf",
   "metadata": {},
   "outputs": [],
   "source": [
    "genomepy.install_genome(\"GRCm39\", \"NCBI\", annotation = False)\n",
    "\n",
    "gencode = pd.read_table(\"gencode.vM32.annotation.gff3.gz\", comment=\"#\", sep = \"\\t\", names = ['seqname', 'source', 'feature', 'start', 'end', 'score', 'strand', 'frame', 'attribute'])\n",
    "gencode.head() "
   ]
  },
  {
   "cell_type": "markdown",
   "id": "5684c1e1",
   "metadata": {},
   "source": [
    "### Select genes only"
   ]
  },
  {
   "cell_type": "code",
   "execution_count": null,
   "id": "e429bf69",
   "metadata": {},
   "outputs": [],
   "source": [
    "gencode_genes = gencode[(gencode.feature == \"gene\")][['seqname', 'source', 'feature','start', 'end', 'strand', 'attribute']].copy().reset_index().drop('index', axis=1)\n",
    "gencode_genes.head()"
   ]
  },
  {
   "cell_type": "markdown",
   "id": "2f37b49f",
   "metadata": {},
   "source": [
    "### Extract gene names and gene types"
   ]
  },
  {
   "cell_type": "code",
   "execution_count": null,
   "id": "dc325f8c",
   "metadata": {},
   "outputs": [],
   "source": [
    "def gene_info(x):\n",
    "    g_name = list(filter(lambda x: 'gene_name' in x,  x.split(\";\")))[0].split(\"=\")[1]\n",
    "    g_type = list(filter(lambda x: 'gene_type' in x,  x.split(\";\")))[0].split(\"=\")[1]\n",
    "    return (g_name, g_type)\n",
    "gencode_genes[\"gene_name\"], gencode_genes[\"gene_type\"] = zip(*gencode_genes.attribute.apply(lambda x: gene_info(x)))"
   ]
  },
  {
   "cell_type": "markdown",
   "id": "42aea026",
   "metadata": {},
   "source": [
    "### Select protein-coding genes only"
   ]
  },
  {
   "cell_type": "code",
   "execution_count": null,
   "id": "e45768e9",
   "metadata": {},
   "outputs": [],
   "source": [
    "gencode_genes = gencode_genes[gencode_genes['gene_type'] == 'protein_coding'].reset_index().drop('index', axis=1)\n",
    "gencode_genes.head()"
   ]
  },
  {
   "cell_type": "markdown",
   "id": "23b63e19",
   "metadata": {},
   "source": [
    "### Index by gene name"
   ]
  },
  {
   "cell_type": "code",
   "execution_count": null,
   "id": "5b328615",
   "metadata": {},
   "outputs": [],
   "source": [
    "gencode_genes = gencode_genes.set_index('gene_name')\n",
    "gencode_genes.head()"
   ]
  },
  {
   "cell_type": "markdown",
   "id": "13fec93c",
   "metadata": {},
   "source": [
    "### Create dictionary of genes with their esitmated elongation rates "
   ]
  },
  {
   "cell_type": "code",
   "execution_count": null,
   "id": "7c73d32d",
   "metadata": {},
   "outputs": [],
   "source": [
    "df = pd.read_excel('gene_list.xlsx') # A list of genes for which transcription elongation rates have been estimated in mESCs by Jonkers et al. in the times spanning  12.5-25 minutes following flavopiridol treatment \n",
    "\n",
    "genedata = dict(zip(df['Gene name'].tolist(), df['Rate (bp/min)'].tolist()))\n",
    "\n",
    "print(genedata)"
   ]
  },
  {
   "cell_type": "markdown",
   "id": "b0e64ff5",
   "metadata": {},
   "source": [
    "### Determine gene coordinates"
   ]
  },
  {
   "cell_type": "code",
   "execution_count": null,
   "id": "5c8928a2",
   "metadata": {},
   "outputs": [],
   "source": [
    "gene_coordinates = pd.DataFrame({'gene_name': [], 'chromosome': [], 'start': [], 'end': [], 'strand': []})\n",
    "for gene in genedata:\n",
    "    try:\n",
    "        a = gencode_genes.loc[gene]['seqname']\n",
    "        b = gencode_genes.loc[gene]['start']\n",
    "        c = gencode_genes.loc[gene]['end']\n",
    "        d = gencode_genes.loc[gene]['strand']\n",
    "        gene_coordinates.loc[len(gene_coordinates)] = [gene, a, b, c, d]\n",
    "    except Exception as e:\n",
    "        pass\n",
    "gene_coordinates = gene_coordinates.set_index('gene_name')\n",
    "gene_coordinates.head()"
   ]
  },
  {
   "cell_type": "markdown",
   "id": "8bff528c",
   "metadata": {},
   "source": [
    "### Select exons"
   ]
  },
  {
   "cell_type": "code",
   "execution_count": null,
   "id": "69febec2",
   "metadata": {},
   "outputs": [],
   "source": [
    "gencode_exons = gencode[(gencode.feature == \"exon\")][['seqname', 'source', 'feature','start', 'end', 'strand', 'attribute']].copy().reset_index().drop('index', axis=1)\n",
    "\n",
    "gencode_exons[\"gene_name\"], gencode_exons[\"gene_type\"] = zip(*gencode_exons.attribute.apply(lambda x: gene_info(x)))\n",
    "\n",
    "gencode_exons = gencode_exons[gencode_exons['gene_type'] == 'protein_coding'].reset_index().drop('index', axis=1)\n",
    "\n",
    "gencode_exons = gencode_exons.set_index('gene_name')\n",
    "\n",
    "gencode_exons1 = gencode_exons.set_index('attribute')\n",
    "\n",
    "print(gencode_exons1)"
   ]
  },
  {
   "cell_type": "markdown",
   "id": "2c45be51",
   "metadata": {},
   "source": [
    "### Exclude outliers"
   ]
  },
  {
   "cell_type": "code",
   "execution_count": null,
   "id": "ae4a7335",
   "metadata": {},
   "outputs": [],
   "source": [
    "data = np.array(list(genedata.values()))\n",
    "\n",
    "# Calculate the interquartile range (IQR)\n",
    "q1 = np.percentile(data, 25)\n",
    "q3 = np.percentile(data, 75)\n",
    "iqr = q3 - q1\n",
    "\n",
    "# Define the lower and upper bounds for outliers\n",
    "lower_bound = q1 - 1.5 * iqr\n",
    "upper_bound = q3 + 1.5 * iqr\n",
    "\n",
    "# Exclude the outliers from the data\n",
    "data_excl = data[(data >= lower_bound) & (data <= upper_bound)]\n",
    "\n",
    "genedata1 = {}\n",
    "for gene in genedata:\n",
    "    if genedata[gene] in data_excl:\n",
    "        genedata1[gene] = genedata[gene]"
   ]
  },
  {
   "cell_type": "markdown",
   "id": "69d28eff",
   "metadata": {},
   "source": [
    "### Count exons"
   ]
  },
  {
   "cell_type": "code",
   "execution_count": null,
   "id": "33278e44",
   "metadata": {},
   "outputs": [],
   "source": [
    "exon_counts = pd.DataFrame({'gene_name': [], 'exon_count': [], 'Rate (bp/min)':[]})\n",
    "for gene in genedata1:\n",
    "    exon_count = 0\n",
    "\n",
    "    try: \n",
    "        a = gene_coordinates.loc[gene]['chromosome']\n",
    "        b = gene_coordinates.loc[gene]['start']\n",
    "        c = gene_coordinates.loc[gene]['end']\n",
    "        d = gene_coordinates.loc[gene]['strand']\n",
    "        for attribute in gencode_exons.loc[gene]['attribute']:\n",
    "            if \"Ensembl\" in attribute:\n",
    "                start = gencode_exons1.loc[attribute]['start']\n",
    "                end = gencode_exons1.loc[attribute]['end']\n",
    "                if d == '+':\n",
    "                    if end < b+30000:\n",
    "                        if start > b+7500:\n",
    "                            exon_count = exon_count + 1\n",
    "                if d == '-':\n",
    "                    if start > c-30000:\n",
    "                        if end < c-7500:\n",
    "                            exon_count = exon_count + 1\n",
    "\n",
    "    except:\n",
    "        pass\n",
    "    if exon_count >-1:\n",
    "        exon_counts.loc[len(exon_counts)] = [gene, exon_count, genedata[gene]]\n",
    "\n",
    "print(exon_counts) "
   ]
  },
  {
   "cell_type": "markdown",
   "id": "5562fdf5",
   "metadata": {},
   "source": [
    "### Plot the data"
   ]
  },
  {
   "cell_type": "code",
   "execution_count": null,
   "id": "385b47e7",
   "metadata": {},
   "outputs": [],
   "source": [
    "# Read in data\n",
    "x = np.array(exon_counts['exon_count'])\n",
    "y = np.array(exon_counts['Rate (bp/min)'])\n",
    "\n",
    "# Calculate the linear regression line and R-squared value\n",
    "slope, intercept, r_value, p_value, std_err = stats.linregress(x, y)\n",
    "lin_reg = slope * x + intercept\n",
    "r_squared = r_value**2\n",
    "\n",
    "# Set the figure size\n",
    "plt.figure(figsize=(6, 6))  # width=10 inches, height=7 inches\n",
    "\n",
    "# Create a scatter plot\n",
    "plt.scatter(x, y)\n",
    "\n",
    "# Add the linear regression line to the plot\n",
    "plt.plot(x, lin_reg, color='r')\n",
    "\n",
    "r_squared = r_value**2\n",
    "r_squared_percent = r_squared * 100\n",
    "\n",
    "# Add the R-squared value, p-value, and the number of datapoints (n) to the plot\n",
    "plt.annotate(f\"R-squared = {r_squared_percent:.1f}%\", xy=(0.64, 0.95), xycoords='axes fraction', fontsize=12)\n",
    "plt.annotate('p-value = {:.1e}'.format(p_value), xy=(0.64, 0.90), xycoords='axes fraction',fontsize=12)\n",
    "plt.annotate('n = {}'.format(len(x)), xy=(0.64, 0.85), xycoords='axes fraction', fontsize = 12)\n",
    "\n",
    "# Set the x- and y-axis labels\n",
    "plt.xlabel('Exon count', fontsize=15)\n",
    "plt.ylabel('Elongation rate (bp/min)', fontsize=15)\n",
    "\n",
    "plt.xticks(fontsize=11)\n",
    "plt.yticks(fontsize=11)\n",
    "\n",
    "# Show the plot\n",
    "plt.show()"
   ]
  },
  {
   "cell_type": "markdown",
   "id": "066b38eb",
   "metadata": {},
   "source": [
    "### Determine exon coordinates "
   ]
  },
  {
   "cell_type": "code",
   "execution_count": null,
   "id": "d5f5c545",
   "metadata": {},
   "outputs": [],
   "source": [
    "exon_counts = pd.DataFrame({'gene_name': [], 'exon_count': [], 'exons': [], 'exons_coordinates': [], 'Rate (bp/min)':[]})\n",
    "for gene in genedata:\n",
    "    exon_count = 0\n",
    "    exons = []\n",
    "    exon_coordinates = []\n",
    "    try: \n",
    "        a = gene_coordinates.loc[gene]['chromosome']\n",
    "        b = gene_coordinates.loc[gene]['start']\n",
    "        c = gene_coordinates.loc[gene]['end']\n",
    "        d = gene_coordinates.loc[gene]['strand']\n",
    "        for attribute in gencode_exons.loc[gene]['attribute']:\n",
    "            if \"Ensembl\" in attribute:\n",
    "                start = gencode_exons1.loc[attribute]['start']\n",
    "                end = gencode_exons1.loc[attribute]['end']\n",
    "                if d == '+':\n",
    "                    if end < b+30000:\n",
    "                        if start > b+7500:\n",
    "                            exon_count = exon_count + 1\n",
    "                            exon_length = end-start\n",
    "                            exons.append(exon_length)\n",
    "                            exon_coordinates.append((a, start, end))\n",
    "                if d == '-':\n",
    "                    if start > c-30000:\n",
    "                        if end < c-7500:\n",
    "                            exon_count = exon_count + 1\n",
    "                            exon_length = end-start\n",
    "                            exons.append(exon_length)\n",
    "                            exon_coordinates.append((a, start, end))\n",
    "    except:\n",
    "        pass\n",
    "    if exon_count >-1:\n",
    "        exon_counts.loc[len(exon_counts)] = [gene, exon_count, exons, exon_coordinates, genedata[gene]]\n",
    "\n",
    "exon_counts = exon_counts.set_index('gene_name')\n",
    "exon_counts.head()"
   ]
  },
  {
   "cell_type": "markdown",
   "id": "3603e04a",
   "metadata": {},
   "source": [
    "### Determine exon density"
   ]
  },
  {
   "cell_type": "code",
   "execution_count": null,
   "id": "448c8e21",
   "metadata": {},
   "outputs": [],
   "source": [
    "exon_density = pd.DataFrame({'gene_name': [], 'exon_density': [], 'Rate (bp/min)':[]})\n",
    "try:\n",
    "    for gene in genedata1:\n",
    "        total_exon = sum(exon_counts.loc[gene]['exons'])\n",
    "        exon_den = total_exon/22500\n",
    "        if exon_counts.loc[gene]['exon_count'] >=1:\n",
    "            exon_density.loc[len(exon_density)] = [gene, exon_den, genedata[gene]]      \n",
    "except:\n",
    "    pass\n",
    "\n",
    "print(exon_density)"
   ]
  },
  {
   "cell_type": "markdown",
   "id": "1e04739c",
   "metadata": {},
   "source": [
    "### Plot the data"
   ]
  },
  {
   "cell_type": "code",
   "execution_count": null,
   "id": "c81f252f",
   "metadata": {},
   "outputs": [],
   "source": [
    "# Read in data\n",
    "x = np.array(exon_density['exon_density']) *100\n",
    "y = np.array(exon_density['Rate (bp/min)']) \n",
    "\n",
    "# Calculate the linear regression line and R-squared value\n",
    "slope, intercept, r_value, p_value, std_err = stats.linregress(x, y)\n",
    "lin_reg = slope * x + intercept\n",
    "r_squared = r_value**2\n",
    "\n",
    "# Set the figure size\n",
    "plt.figure(figsize=(6, 6)) \n",
    "\n",
    "# Create a scatter plot\n",
    "plt.scatter(x, y)\n",
    "\n",
    "# Add the linear regression line to the plot\n",
    "plt.plot(x, lin_reg, color='r')\n",
    "\n",
    "r_squared = r_value**2\n",
    "r_squared_percent = r_squared * 100\n",
    "\n",
    "# Add the R-squared value, p-value, and the number of datapoints (n) to the plot\n",
    "plt.annotate(f\"R-squared = {r_squared_percent:.1f}%\", xy=(0.64, 0.95), xycoords='axes fraction', fontsize=12)\n",
    "plt.annotate('p-value = {:.2e}'.format(p_value), xy=(0.64, 0.90), xycoords='axes fraction', fontsize=12)\n",
    "plt.annotate('n = {}'.format(len(x)), xy=(0.64, 0.85), xycoords='axes fraction', fontsize=12)\n",
    "\n",
    "# Set the x- and y-axis labels\n",
    "plt.xlabel('Exon density (%)', fontsize=15)\n",
    "plt.ylabel('Elongation rate (bp/min)', fontsize=15)\n",
    "\n",
    "plt.xticks(fontsize=11)\n",
    "plt.yticks(fontsize=11)\n",
    "\n",
    "# Show the plot\n",
    "plt.show()"
   ]
  },
  {
   "cell_type": "markdown",
   "id": "dfccc4fd",
   "metadata": {},
   "source": [
    "### Determine the GC-content"
   ]
  },
  {
   "cell_type": "code",
   "execution_count": null,
   "id": "649c52e0",
   "metadata": {},
   "outputs": [],
   "source": [
    "GC_content = pd.DataFrame({'Gene_name': [], 'GC_content': [], 'Rate (bp/min)' : []})\n",
    "\n",
    "for gene in genedata1:\n",
    "\n",
    "    try:       \n",
    "        a = gencode_genes.loc[gene]['seqname']\n",
    "        b = gencode_genes.loc[gene]['start']\n",
    "        c = gencode_genes.loc[gene]['end']\n",
    "        d = gencode_genes.loc[gene]['strand']\n",
    "        x = genomepy.Genome(\"GRCm39\").get_seq(a[3:],b,c)\n",
    "        x = (str(x)).upper()\n",
    "        if d == '+':\n",
    "            x = x[7499:30000]\n",
    "        if d == '-':\n",
    "            x = x[-30000:-7499]\n",
    "        gc_count = x.count(\"G\") + x.count(\"C\")\n",
    "        gc_content = gc_count / len(x) * 100\n",
    "        GC_content.loc[len(GC_content)] = [gene, gc_content, genedata[gene]]\n",
    "    except Exception as e:\n",
    "        pass\n",
    "    \n",
    "print(GC_content)"
   ]
  },
  {
   "cell_type": "markdown",
   "id": "1549b008",
   "metadata": {},
   "source": [
    "### Plot the data"
   ]
  },
  {
   "cell_type": "code",
   "execution_count": null,
   "id": "2761f685",
   "metadata": {},
   "outputs": [],
   "source": [
    "# Read in data \n",
    "x = np.array(GC_content['GC_content'])\n",
    "y = np.array(GC_content['Rate (bp/min)'])\n",
    "\n",
    "# Calculate the linear regression line and R-squared value\n",
    "slope, intercept, r_value, p_value, std_err = stats.linregress(x, y)\n",
    "lin_reg = slope * x + intercept\n",
    "r_squared = r_value**2\n",
    "\n",
    "# Set the figure size\n",
    "plt.figure(figsize=(6, 6))\n",
    "\n",
    "# Create a scatter plot\n",
    "plt.scatter(x, y)\n",
    "\n",
    "# Add the linear regression line to the plot\n",
    "plt.plot(x, lin_reg, color='r')\n",
    "\n",
    "r_squared = r_value**2\n",
    "r_squared_percent = r_squared * 100\n",
    "\n",
    "# Add the R-squared value, p-value, and the number of datapoints (n) to the plot\n",
    "plt.annotate(f\"R² = {r_squared_percent:.2f}%\", xy=(0.75, 0.95), xycoords='axes fraction', fontsize=12)\n",
    "plt.annotate('p = {:.2e}'.format(p_value), xy=(0.75, 0.90), xycoords='axes fraction', fontsize = 12)\n",
    "plt.annotate('n = {}'.format(len(x)), xy=(0.75, 0.85), xycoords='axes fraction', fontsize = 12)\n",
    "\n",
    "# Set the x- and y-axis labels\n",
    "plt.xlabel('Guanine-cytosine content (%)', fontsize=15)\n",
    "plt.ylabel('Elongation rate (bp/min)', fontsize=15)\n",
    "\n",
    "plt.xticks(fontsize=11)\n",
    "plt.yticks(fontsize=11)\n",
    "\n",
    "# Show the plot\n",
    "plt.show()"
   ]
  },
  {
   "cell_type": "markdown",
   "id": "1f1786c5",
   "metadata": {},
   "source": [
    "### Count CpG sites"
   ]
  },
  {
   "cell_type": "code",
   "execution_count": null,
   "id": "8ef5e8fe",
   "metadata": {},
   "outputs": [],
   "source": [
    "CpG_sites = pd.DataFrame({'Gene_name': [], 'CpG_count': [], 'Rate (bp/min)' : []})\n",
    "\n",
    "for gene in genedata1:\n",
    "\n",
    "    try:       \n",
    "        a = gencode_genes.loc[gene]['seqname']\n",
    "        b = gencode_genes.loc[gene]['start']\n",
    "        c = gencode_genes.loc[gene]['end']\n",
    "        d = gencode_genes.loc[gene]['strand']\n",
    "        x = genomepy.Genome(\"GRCm39\").get_seq(a[3:],b,c)\n",
    "        x = (str(x)).upper()\n",
    "        if d == '+':\n",
    "            x = x[7499:30000]\n",
    "        if d == '-':\n",
    "            x = x[-30000:-7499]\n",
    "        CpG_count = x.count(\"CG\")\n",
    "        CpG_sites.loc[len(CpG_sites)] = [gene, CpG_count, genedata[gene]]\n",
    "    except Exception as e:\n",
    "        pass\n",
    "    \n",
    "print(CpG_sites)"
   ]
  },
  {
   "cell_type": "markdown",
   "id": "62426ac4",
   "metadata": {},
   "source": [
    "### Plot the data"
   ]
  },
  {
   "cell_type": "code",
   "execution_count": null,
   "id": "afbae1ca",
   "metadata": {},
   "outputs": [],
   "source": [
    "# Read in data\n",
    "x = np.array(CpG_sites['CpG_count'])\n",
    "y = np.array(CpG_sites['Rate (bp/min)'])\n",
    "\n",
    "# Calculate the linear regression line and R-squared value\n",
    "slope, intercept, r_value, p_value, std_err = stats.linregress(x, y)\n",
    "lin_reg = slope * x + intercept\n",
    "r_squared = r_value**2\n",
    "\n",
    "# Set the figure size\n",
    "plt.figure(figsize=(6, 6))\n",
    "\n",
    "# Create a scatter plot\n",
    "plt.scatter(x, y)\n",
    "\n",
    "# Add the linear regression line to the plot\n",
    "plt.plot(x, lin_reg, color='r')\n",
    "\n",
    "r_squared = r_value**2\n",
    "r_squared_percent = r_squared * 100\n",
    "\n",
    "# Add the R-squared value, p-value, and the number of datapoints (n) to the plot\n",
    "plt.annotate(f\"R² = {r_squared_percent:.2f}%\", xy=(0.75, 0.95), xycoords='axes fraction', fontsize=12)\n",
    "plt.annotate('p = {:.2e}'.format(p_value), xy=(0.75, 0.90), xycoords='axes fraction', fontsize = 12)\n",
    "plt.annotate('n = {}'.format(len(x)), xy=(0.75, 0.85), xycoords='axes fraction', fontsize = 12)\n",
    "\n",
    "plt.xticks(fontsize=11)\n",
    "plt.yticks(fontsize=11)\n",
    "\n",
    "# Set the x- and y-axis labels\n",
    "plt.xlabel('CpG sites count', fontsize=15)\n",
    "plt.ylabel('Elongation rate (bp/min)', fontsize=15)\n",
    "\n",
    "# Show the plot\n",
    "plt.show()"
   ]
  }
 ],
 "metadata": {
  "kernelspec": {
   "display_name": "Python 3 (ipykernel)",
   "language": "python",
   "name": "python3"
  },
  "language_info": {
   "codemirror_mode": {
    "name": "ipython",
    "version": 3
   },
   "file_extension": ".py",
   "mimetype": "text/x-python",
   "name": "python",
   "nbconvert_exporter": "python",
   "pygments_lexer": "ipython3",
   "version": "3.9.13"
  }
 },
 "nbformat": 4,
 "nbformat_minor": 5
}
